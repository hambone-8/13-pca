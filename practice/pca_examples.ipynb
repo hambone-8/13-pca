{
 "cells": [
  {
   "cell_type": "markdown",
   "metadata": {},
   "source": [
    "<img src=\"http://imgur.com/1ZcRyrc.png\" style=\"float: left; margin: 20px; height: 55px\">\n",
    "\n",
    "# Principal Component Analysis (PCA) Examples\n",
    "\n",
    "---"
   ]
  },
  {
   "cell_type": "code",
   "execution_count": null,
   "metadata": {},
   "outputs": [],
   "source": [
    "# usual imports\n",
    "import numpy as np\n",
    "import matplotlib.pyplot as plt\n",
    "import pylab as pl\n",
    "import pandas as pd\n",
    "\n",
    "%matplotlib inline\n",
    "\n",
    "# new import!\n",
    "from sklearn.decomposition import PCA"
   ]
  },
  {
   "cell_type": "markdown",
   "metadata": {},
   "source": [
    "### Iris Dataset (i.e. scikit-learn iris)  \n",
    "Load the sklearn `iris` dataset.  This is one of the built-in datasets included in scikit-learn (and one we've seen before)."
   ]
  },
  {
   "cell_type": "code",
   "execution_count": null,
   "metadata": {},
   "outputs": [],
   "source": [
    "from sklearn.datasets import load_iris\n",
    "iris = load_iris()"
   ]
  },
  {
   "cell_type": "markdown",
   "metadata": {},
   "source": [
    "Take a look at the dataset:"
   ]
  },
  {
   "cell_type": "code",
   "execution_count": null,
   "metadata": {
    "scrolled": true
   },
   "outputs": [],
   "source": [
    "print(iris.DESCR)"
   ]
  },
  {
   "cell_type": "code",
   "execution_count": null,
   "metadata": {},
   "outputs": [],
   "source": [
    "print(iris.data);"
   ]
  },
  {
   "cell_type": "code",
   "execution_count": null,
   "metadata": {},
   "outputs": [],
   "source": [
    "X = iris.data\n",
    "y = iris.target\n",
    "target_names = iris.target_names\n",
    "target_names\n",
    "\n",
    "from sklearn import preprocessing\n",
    "X_scaled = preprocessing.scale(X)\n",
    "X_scaled"
   ]
  },
  {
   "cell_type": "markdown",
   "metadata": {},
   "source": [
    "The PCA algorithm takes an argument `n_components` which specifies how many of the principal components we want to keep.  This dataset has only 4 features, so let's try keeping 2 to start: "
   ]
  },
  {
   "cell_type": "code",
   "execution_count": null,
   "metadata": {},
   "outputs": [],
   "source": [
    "# create the model and fit the data\n",
    "pca = PCA(n_components=2)\n",
    "X_r = pca.fit_transform(X_scaled)\n",
    "X_r;"
   ]
  },
  {
   "cell_type": "markdown",
   "metadata": {},
   "source": [
    "How much of the variance do the first two principal components explain?  The PCA class has an attribute `explained_variance_ratio_` that reports this information:"
   ]
  },
  {
   "cell_type": "code",
   "execution_count": null,
   "metadata": {},
   "outputs": [],
   "source": [
    "# show percentage of variance explained (first two components):\n",
    "print(\"First component: {}\".format(pca.explained_variance_ratio_[0]))\n",
    "print(\"Second component: {}\".format(pca.explained_variance_ratio_[1]))"
   ]
  },
  {
   "cell_type": "code",
   "execution_count": null,
   "metadata": {},
   "outputs": [],
   "source": [
    "pd.DataFrame(X).corr()\n",
    "pd.DataFrame(X_r).corr()"
   ]
  },
  {
   "cell_type": "code",
   "execution_count": null,
   "metadata": {},
   "outputs": [],
   "source": [
    "pca.explained_variance_"
   ]
  },
  {
   "cell_type": "code",
   "execution_count": null,
   "metadata": {},
   "outputs": [],
   "source": [
    "print(pca.components_)\n",
    "print(iris['feature_names'])\n",
    "\n",
    "print(X_scaled[0].dot(pca.components_[0]))\n",
    "print(X_scaled[0].dot(pca.components_[1]))\n",
    "\n",
    "X_r"
   ]
  },
  {
   "cell_type": "markdown",
   "metadata": {},
   "source": [
    "We can see that the first principal component explains most of the variance.  Since we kept only 2 components we can use a simple 2-dimensional plot to view the datapoints in the new coordinate system.  We'll label them using our known target info:"
   ]
  },
  {
   "cell_type": "code",
   "execution_count": null,
   "metadata": {
    "scrolled": true
   },
   "outputs": [],
   "source": [
    "pl.figure()\n",
    "for c, i, target_name in zip(\"rgb\", [0, 1, 2], target_names):\n",
    "    pl.scatter(X_r[y == i, 0], X_r[y == i, 1], c=c, label=target_name)\n",
    "pl.legend()\n",
    "pl.title('PCA of IRIS dataset')\n",
    "\n",
    "pl.show()"
   ]
  },
  {
   "cell_type": "markdown",
   "metadata": {},
   "source": [
    "We can use a plot to help validate our choice of `n`.  Let's refit the model, but this time keep all components - this is the default behavior if `n_components` is not specified:"
   ]
  },
  {
   "cell_type": "code",
   "execution_count": null,
   "metadata": {},
   "outputs": [],
   "source": [
    "# create the model and fit the data - no n_components set:\n",
    "pca = PCA()\n",
    "X_r = pca.fit_transform(X)"
   ]
  },
  {
   "cell_type": "markdown",
   "metadata": {},
   "source": [
    "As before, the explained variance ratios are in `pca.explained_variance_ratio_`, but this time there should be 4 ..."
   ]
  },
  {
   "cell_type": "code",
   "execution_count": null,
   "metadata": {
    "scrolled": true
   },
   "outputs": [],
   "source": [
    "ratios = pca.explained_variance_ratio_\n",
    "print(ratios)"
   ]
  },
  {
   "cell_type": "code",
   "execution_count": null,
   "metadata": {
    "scrolled": false
   },
   "outputs": [],
   "source": [
    "print(pca.components_)"
   ]
  },
  {
   "cell_type": "code",
   "execution_count": null,
   "metadata": {
    "scrolled": true
   },
   "outputs": [],
   "source": [
    "comp_id = [1, 2, 3, 4] # id number of component\n",
    "\n",
    "fig = plt.figure(figsize=(8,5));\n",
    "\n",
    "plt.plot(comp_id, ratios, 'ro-', linewidth=2);\n",
    "plt.title('Scree Plot');\n",
    "plt.xlabel('Principal Component');\n",
    "plt.ylabel('Eigenvalue');"
   ]
  },
  {
   "cell_type": "markdown",
   "metadata": {},
   "source": [
    "There is a clear 'elbow in the curve', so it looks like our choice of `2` components was ok.  Let's look at another dataset that has more features per record.  "
   ]
  },
  {
   "cell_type": "markdown",
   "metadata": {},
   "source": [
    "### Handwritten Digits Dataset (i.e. scikit-learn digits)  \n",
    "\n",
    "Load the sklearn `digits` dataset, which contains a set of 8x8 pixel images of handwritten digits.  This is one of the built-in datasets included in scikit-learn."
   ]
  },
  {
   "cell_type": "code",
   "execution_count": null,
   "metadata": {},
   "outputs": [],
   "source": [
    "from sklearn.datasets import load_digits\n",
    "digits = load_digits()"
   ]
  },
  {
   "cell_type": "markdown",
   "metadata": {},
   "source": [
    "Take a look at the dataset:"
   ]
  },
  {
   "cell_type": "code",
   "execution_count": null,
   "metadata": {},
   "outputs": [],
   "source": [
    "print(digits.DESCR)"
   ]
  },
  {
   "cell_type": "markdown",
   "metadata": {},
   "source": [
    "Notice that each row in the dataset has 64 features, one for each of the individual pixels making up the image, where the value of each feature is the greyscale level (0 to 15)."
   ]
  },
  {
   "cell_type": "code",
   "execution_count": null,
   "metadata": {},
   "outputs": [],
   "source": [
    "# print digits"
   ]
  },
  {
   "cell_type": "code",
   "execution_count": null,
   "metadata": {},
   "outputs": [],
   "source": [
    "X, y = digits.data, digits.target\n",
    "\n",
    "print(\"data shape: {}, target shape: {}\".format(X.shape, y.shape))\n",
    "print(\"classes: {}\".format(list(np.unique(y))))\n",
    "y"
   ]
  },
  {
   "cell_type": "code",
   "execution_count": null,
   "metadata": {},
   "outputs": [],
   "source": [
    "n_samples, n_features = X.shape\n",
    "print(\"n_samples = {}\".format(n_samples))\n",
    "print(\"n_features = {}\".format(n_features))"
   ]
  },
  {
   "cell_type": "markdown",
   "metadata": {},
   "source": [
    "Here's a small routine to visually plot the first 400 rows (i.e. digits) in the dataset:"
   ]
  },
  {
   "cell_type": "code",
   "execution_count": null,
   "metadata": {},
   "outputs": [],
   "source": [
    "# note: this uses pandas indexing, so temporarily load into pandas dataframe\n",
    "Xpd = pd.DataFrame(digits.data) # explanatory (or independent or feature) variables\n",
    "Xpd.head()"
   ]
  },
  {
   "cell_type": "markdown",
   "metadata": {},
   "source": [
    "### EXERCISE: Principal Component Analysis for Digits Data Set\n",
    "\n",
    "#### 1. Fit and transform digits data set using PCA\n",
    "\n",
    "#### 2. What are the explained variance ratios\n",
    "\n",
    "#### 3. Plot the variances and determine appropriate number of components to use."
   ]
  },
  {
   "cell_type": "code",
   "execution_count": null,
   "metadata": {},
   "outputs": [],
   "source": [
    "def plot_gallery(data, labels, shape, interpolation='nearest'):\n",
    "    '''helper function for plot images of the digits'''\n",
    "    for i in range(data.shape[0]):\n",
    "        plt.subplot(1, data.shape[0], (i + 1))\n",
    "        plt.imshow(data[i].reshape(shape), interpolation=interpolation, cmap=pl.cm.binary)\n",
    "        plt.title(labels[i])\n",
    "        plt.xticks(()), plt.yticks(())"
   ]
  },
  {
   "cell_type": "code",
   "execution_count": null,
   "metadata": {},
   "outputs": [],
   "source": [
    "subsample = np.random.permutation(X.shape[0])[:4]      # pick 4 random records \n",
    "images = X[subsample]\n",
    "labels = ['True class: %d' % l for l in y[subsample]]  # label with the true (known) value\n",
    "\n",
    "plot_gallery(images, labels, shape=(8, 8))             # plot them in grayscale"
   ]
  },
  {
   "cell_type": "code",
   "execution_count": null,
   "metadata": {},
   "outputs": [],
   "source": [
    "pca = PCA(n_components=30)\n",
    "\n",
    "X_pca = pca.fit_transform(Xpd)\n",
    "\n",
    "ratios = pca.explained_variance_ratio_\n",
    "plt.plot(range(len(ratios)), ratios.cumsum());"
   ]
  },
  {
   "cell_type": "code",
   "execution_count": null,
   "metadata": {},
   "outputs": [],
   "source": [
    "images2 = pca.inverse_transform(X_pca[subsample])\n",
    "labels = ['True class: %d' % l for l in y[subsample]]  # label with the true (known) value\n",
    "\n",
    "plot_gallery(images2, labels, shape=(8, 8))             # plot them in grayscale"
   ]
  },
  {
   "cell_type": "markdown",
   "metadata": {},
   "source": [
    "### Extra: Visualization of Digits\n",
    "\n",
    "Adapted from: https://scikit-learn.org/stable/auto_examples/manifold/plot_lle_digits.html"
   ]
  },
  {
   "cell_type": "code",
   "execution_count": null,
   "metadata": {},
   "outputs": [],
   "source": [
    "n_img_per_row = 20                                    # number of digits per row\n",
    "\n",
    "img = np.zeros((10*n_img_per_row, 10*n_img_per_row))  # generate a new 200x200 array filled with zeros"
   ]
  },
  {
   "cell_type": "code",
   "execution_count": null,
   "metadata": {},
   "outputs": [],
   "source": [
    "# set each 8x8 area of the img to the values of each row (reshaped from 1x64 to 8x8)       \n",
    "for i in range(n_img_per_row):\n",
    "    ix = 10 * i + 1\n",
    "    for j in range(n_img_per_row):\n",
    "        iy = 10 * j + 1\n",
    "        img[ix:ix+8, iy:iy+8] = X[i*n_img_per_row + j].reshape((8, 8)) "
   ]
  },
  {
   "cell_type": "code",
   "execution_count": null,
   "metadata": {
    "scrolled": true
   },
   "outputs": [],
   "source": [
    "pl.figure(figsize=(8, 8), dpi=250);     # define a figure, with size (width and height) and resolution\n",
    "pl.imshow(img, cmap=pl.cm.binary);      # show the image using a binary color map\n",
    "pl.xticks([]); # no x ticks\n",
    "pl.yticks([]); # no y ticks\n",
    "pl.title('A Selection from the 64-Dimensional Digits Dataset\\n', fontsize=16);"
   ]
  },
  {
   "cell_type": "code",
   "execution_count": null,
   "metadata": {},
   "outputs": [],
   "source": [
    "subsample = np.random.permutation(X.shape[0])[:4]      # pick 4 random records \n",
    "images = X[subsample]\n",
    "labels = ['True class: %d' % l for l in y[subsample]]  # label with the true (known) value\n",
    "\n",
    "plot_gallery(images, labels, shape=(8, 8))             # plot them in grayscale"
   ]
  }
 ],
 "metadata": {
  "kernelspec": {
   "display_name": "Python 3",
   "language": "python",
   "name": "python3"
  },
  "language_info": {
   "codemirror_mode": {
    "name": "ipython",
    "version": 3
   },
   "file_extension": ".py",
   "mimetype": "text/x-python",
   "name": "python",
   "nbconvert_exporter": "python",
   "pygments_lexer": "ipython3",
   "version": "3.7.3"
  },
  "toc": {
   "base_numbering": 1,
   "nav_menu": {},
   "number_sections": true,
   "sideBar": true,
   "skip_h1_title": false,
   "title_cell": "Table of Contents",
   "title_sidebar": "Contents",
   "toc_cell": false,
   "toc_position": {},
   "toc_section_display": true,
   "toc_window_display": false
  }
 },
 "nbformat": 4,
 "nbformat_minor": 2
}
